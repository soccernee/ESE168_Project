import numpy as np
import pandas as pd
from pandas import DataFrame
import matplotlib.pyplot as plt
import os 
import netCDF4 as nc

myData = pd.read_csv("../ESE168_Project/NigerianRegressionData.csv")
myData